{
 "cells": [
  {
   "cell_type": "markdown",
   "metadata": {},
   "source": [
    "### TFM. wikiScraping"
   ]
  },
  {
   "cell_type": "code",
   "execution_count": 293,
   "metadata": {},
   "outputs": [],
   "source": [
    "import requests\n",
    "import re\n",
    "from bs4 import BeautifulSoup\n",
    "import wget\n",
    "import urllib.request\n",
    "import os\n",
    "from selenium import webdriver\n",
    "from selenium.webdriver.common.keys import Keys\n",
    "from selenium.webdriver.firefox.options import Options"
   ]
  },
  {
   "cell_type": "markdown",
   "metadata": {},
   "source": [
    "Creamos la funcion para scrapear Wikiart"
   ]
  },
  {
   "cell_type": "code",
   "execution_count": 296,
   "metadata": {},
   "outputs": [],
   "source": [
    "def wikiart(artist):\n",
    "    url = \"https://www.wikiart.org/en/\"+artist+\"/all-works/text-list\"\n",
    "    print(artist)\n",
    "    print(url)\n",
    "    page = requests.get(url)\n",
    "    c=page.content\n",
    "    soup=BeautifulSoup(c,\"html.parser\")\n",
    "    links = []\n",
    "    for link in soup.findAll('a', attrs={'href': re.compile(r'/en/'+ re.escape(artist)+ r'/')}):\n",
    "        #print (link.get('href'))\n",
    "        links.append(\"https://www.wikiart.org\"+link.get('href'))  \n",
    "    ###recorremos la lista de links y seleccionamos la pintura\n",
    "    images = []\n",
    "    for link in links:\n",
    "        html_page = urllib.request.urlopen(link)\n",
    "        soup = BeautifulSoup(html_page) \n",
    "        for img in soup.findAll('img', {'src':re.compile('.jpg')}):\n",
    "            images.append(img.get('src'))\n",
    "        #print(images) \n",
    "    ### creamos y guardamos las pinturas\n",
    "    newpath = r'/home/pablo/Escritorio/TFM/'+artist\n",
    "    if not os.path.exists(newpath):\n",
    "        os.makedirs(newpath)\n",
    "    for image in images:\n",
    "        os.chdir(newpath)\n",
    "        wget.download(image)"
   ]
  },
  {
   "cell_type": "markdown",
   "metadata": {},
   "source": [
    "## Listado de Autores Siglo XIX"
   ]
  },
  {
   "cell_type": "code",
   "execution_count": 288,
   "metadata": {},
   "outputs": [
    {
     "name": "stdout",
     "output_type": "stream",
     "text": [
      "claude-monet\n"
     ]
    }
   ],
   "source": [
    "wikiart('claude-monet')"
   ]
  },
  {
   "cell_type": "code",
   "execution_count": 297,
   "metadata": {},
   "outputs": [
    {
     "name": "stdout",
     "output_type": "stream",
     "text": [
      "vincent-van-gogh\n",
      "https://www.wikiart.org/en/vincent-van-gogh/all-works/text-list\n"
     ]
    }
   ],
   "source": [
    "wikiart('vincent-van-gogh')"
   ]
  },
  {
   "cell_type": "code",
   "execution_count": 298,
   "metadata": {},
   "outputs": [
    {
     "name": "stdout",
     "output_type": "stream",
     "text": [
      "francisco-goya\n",
      "https://www.wikiart.org/en/francisco-goya/all-works/text-list\n"
     ]
    }
   ],
   "source": [
    "wikiart('francisco-goya')"
   ]
  },
  {
   "cell_type": "code",
   "execution_count": 299,
   "metadata": {},
   "outputs": [
    {
     "name": "stdout",
     "output_type": "stream",
     "text": [
      "thomas-lawrence\n",
      "https://www.wikiart.org/en/thomas-lawrence/all-works/text-list\n"
     ]
    }
   ],
   "source": [
    "wikiart('thomas-lawrence')"
   ]
  },
  {
   "cell_type": "code",
   "execution_count": 302,
   "metadata": {},
   "outputs": [
    {
     "name": "stdout",
     "output_type": "stream",
     "text": [
      "camille-corot\n",
      "https://www.wikiart.org/en/camille-corot/all-works/text-list\n"
     ]
    }
   ],
   "source": [
    "wikiart('camille-corot')"
   ]
  },
  {
   "cell_type": "code",
   "execution_count": 303,
   "metadata": {},
   "outputs": [
    {
     "name": "stdout",
     "output_type": "stream",
     "text": [
      "utagawa-kuniyoshi\n",
      "https://www.wikiart.org/en/utagawa-kuniyoshi/all-works/text-list\n"
     ]
    }
   ],
   "source": [
    "wikiart('utagawa-kuniyoshi')"
   ]
  },
  {
   "cell_type": "code",
   "execution_count": 304,
   "metadata": {},
   "outputs": [
    {
     "name": "stdout",
     "output_type": "stream",
     "text": [
      "ivan-aivazovsky\n",
      "https://www.wikiart.org/en/ivan-aivazovsky/all-works/text-list\n"
     ]
    }
   ],
   "source": [
    "wikiart('ivan-aivazovsky')"
   ]
  },
  {
   "cell_type": "code",
   "execution_count": 305,
   "metadata": {},
   "outputs": [
    {
     "name": "stdout",
     "output_type": "stream",
     "text": [
      "gustave-courbet\n",
      "https://www.wikiart.org/en/gustave-courbet/all-works/text-list\n"
     ]
    }
   ],
   "source": [
    "wikiart('gustave-courbet')"
   ]
  },
  {
   "cell_type": "code",
   "execution_count": 306,
   "metadata": {},
   "outputs": [
    {
     "name": "stdout",
     "output_type": "stream",
     "text": [
      "jean-leon-gerome\n",
      "https://www.wikiart.org/en/jean-leon-gerome/all-works/text-list\n"
     ]
    }
   ],
   "source": [
    "wikiart('jean-leon-gerome')"
   ]
  },
  {
   "cell_type": "code",
   "execution_count": 307,
   "metadata": {},
   "outputs": [
    {
     "name": "stdout",
     "output_type": "stream",
     "text": [
      "albert-bierstadt\n",
      "https://www.wikiart.org/en/albert-bierstadt/all-works/text-list\n"
     ]
    }
   ],
   "source": [
    "wikiart('albert-bierstadt')"
   ]
  },
  {
   "cell_type": "code",
   "execution_count": 308,
   "metadata": {},
   "outputs": [
    {
     "name": "stdout",
     "output_type": "stream",
     "text": [
      "aleksey-savrasov\n",
      "https://www.wikiart.org/en/aleksey-savrasov/all-works/text-list\n"
     ]
    }
   ],
   "source": [
    "wikiart('aleksey-savrasov')"
   ]
  },
  {
   "cell_type": "code",
   "execution_count": 309,
   "metadata": {},
   "outputs": [
    {
     "name": "stdout",
     "output_type": "stream",
     "text": [
      "camille-pissarro\n",
      "https://www.wikiart.org/en/camille-pissarro/all-works/text-list\n"
     ]
    }
   ],
   "source": [
    "wikiart('camille-pissarro')"
   ]
  },
  {
   "cell_type": "code",
   "execution_count": 310,
   "metadata": {},
   "outputs": [
    {
     "name": "stdout",
     "output_type": "stream",
     "text": [
      "gustave-dore\n",
      "https://www.wikiart.org/en/gustave-dore/all-works/text-list\n"
     ]
    }
   ],
   "source": [
    "wikiart('gustave-dore')"
   ]
  },
  {
   "cell_type": "code",
   "execution_count": 311,
   "metadata": {},
   "outputs": [
    {
     "name": "stdout",
     "output_type": "stream",
     "text": [
      "edouard-manet\n",
      "https://www.wikiart.org/en/edouard-manet/all-works/text-list\n"
     ]
    }
   ],
   "source": [
    "wikiart('edouard-manet')"
   ]
  },
  {
   "cell_type": "code",
   "execution_count": 312,
   "metadata": {},
   "outputs": [
    {
     "name": "stdout",
     "output_type": "stream",
     "text": [
      "ivan-shishkin\n",
      "https://www.wikiart.org/en/ivan-shishkin/all-works/text-list\n"
     ]
    }
   ],
   "source": [
    "wikiart('ivan-shishkin')"
   ]
  },
  {
   "cell_type": "code",
   "execution_count": 313,
   "metadata": {},
   "outputs": [
    {
     "name": "stdout",
     "output_type": "stream",
     "text": [
      "james-mcneill-whistler\n",
      "https://www.wikiart.org/en/james-mcneill-whistler/all-works/text-list\n"
     ]
    }
   ],
   "source": [
    "wikiart('james-mcneill-whistler')"
   ]
  },
  {
   "cell_type": "code",
   "execution_count": 314,
   "metadata": {},
   "outputs": [
    {
     "name": "stdout",
     "output_type": "stream",
     "text": [
      "edgar-degas\n",
      "https://www.wikiart.org/en/edgar-degas/all-works/text-list\n"
     ]
    }
   ],
   "source": [
    "wikiart('edgar-degas')"
   ]
  },
  {
   "cell_type": "code",
   "execution_count": 315,
   "metadata": {},
   "outputs": [
    {
     "name": "stdout",
     "output_type": "stream",
     "text": [
      "james-tissot\n",
      "https://www.wikiart.org/en/james-tissot/all-works/text-list\n"
     ]
    }
   ],
   "source": [
    "wikiart('james-tissot')"
   ]
  },
  {
   "cell_type": "code",
   "execution_count": 316,
   "metadata": {},
   "outputs": [
    {
     "name": "stdout",
     "output_type": "stream",
     "text": [
      "jan-matejko\n",
      "https://www.wikiart.org/en/jan-matejko/all-works/text-list\n"
     ]
    }
   ],
   "source": [
    "wikiart('jan-matejko')"
   ]
  },
  {
   "cell_type": "code",
   "execution_count": 317,
   "metadata": {},
   "outputs": [
    {
     "name": "stdout",
     "output_type": "stream",
     "text": [
      "paul-cezanne\n",
      "https://www.wikiart.org/en/paul-cezanne/all-works/text-list\n"
     ]
    }
   ],
   "source": [
    "wikiart('paul-cezanne')"
   ]
  },
  {
   "cell_type": "code",
   "execution_count": 318,
   "metadata": {},
   "outputs": [
    {
     "name": "stdout",
     "output_type": "stream",
     "text": [
      "odilon-redon\n",
      "https://www.wikiart.org/en/odilon-redon/all-works/text-list\n"
     ]
    }
   ],
   "source": [
    "wikiart('odilon-redon')"
   ]
  },
  {
   "cell_type": "code",
   "execution_count": 319,
   "metadata": {},
   "outputs": [
    {
     "name": "stdout",
     "output_type": "stream",
     "text": [
      "pierre-auguste-renoir\n",
      "https://www.wikiart.org/en/pierre-auguste-renoir/all-works/text-list\n"
     ]
    }
   ],
   "source": [
    "wikiart('pierre-auguste-renoir')"
   ]
  },
  {
   "cell_type": "code",
   "execution_count": 320,
   "metadata": {},
   "outputs": [
    {
     "name": "stdout",
     "output_type": "stream",
     "text": [
      "mary-cassatt\n",
      "https://www.wikiart.org/en/mary-cassatt/all-works/text-list\n"
     ]
    }
   ],
   "source": [
    "wikiart('mary-cassatt')"
   ]
  },
  {
   "cell_type": "code",
   "execution_count": 321,
   "metadata": {},
   "outputs": [
    {
     "name": "stdout",
     "output_type": "stream",
     "text": [
      "thomas-eakins\n",
      "https://www.wikiart.org/en/thomas-eakins/all-works/text-list\n"
     ]
    }
   ],
   "source": [
    "wikiart('thomas-eakins')"
   ]
  },
  {
   "cell_type": "code",
   "execution_count": 322,
   "metadata": {},
   "outputs": [
    {
     "name": "stdout",
     "output_type": "stream",
     "text": [
      "paul-gauguin\n",
      "https://www.wikiart.org/en/paul-gauguin/all-works/text-list\n"
     ]
    }
   ],
   "source": [
    "wikiart('paul-gauguin')"
   ]
  },
  {
   "cell_type": "code",
   "execution_count": 323,
   "metadata": {},
   "outputs": [
    {
     "name": "stdout",
     "output_type": "stream",
     "text": [
      "william-merritt-chase\n",
      "https://www.wikiart.org/en/william-merritt-chase/all-works/text-list\n"
     ]
    }
   ],
   "source": [
    "wikiart('william-merritt-chase')"
   ]
  },
  {
   "cell_type": "code",
   "execution_count": 324,
   "metadata": {},
   "outputs": [
    {
     "name": "stdout",
     "output_type": "stream",
     "text": [
      "john-singer-sargent\n",
      "https://www.wikiart.org/en/john-singer-sargent/all-works/text-list\n"
     ]
    }
   ],
   "source": [
    "wikiart('john-singer-sargent')"
   ]
  },
  {
   "cell_type": "code",
   "execution_count": 325,
   "metadata": {},
   "outputs": [
    {
     "name": "stdout",
     "output_type": "stream",
     "text": [
      "theodor-severin-kittelsen\n",
      "https://www.wikiart.org/en/theodor-severin-kittelsen/all-works/text-list\n"
     ]
    }
   ],
   "source": [
    "wikiart('theodor-severin-kittelsen')"
   ]
  },
  {
   "cell_type": "code",
   "execution_count": 326,
   "metadata": {},
   "outputs": [
    {
     "name": "stdout",
     "output_type": "stream",
     "text": [
      "maurice-prendergast\n",
      "https://www.wikiart.org/en/maurice-prendergast/all-works/text-list\n"
     ]
    }
   ],
   "source": [
    "wikiart('maurice-prendergast')"
   ]
  },
  {
   "cell_type": "code",
   "execution_count": 327,
   "metadata": {},
   "outputs": [
    {
     "name": "stdout",
     "output_type": "stream",
     "text": [
      "childe-hassam\n",
      "https://www.wikiart.org/en/childe-hassam/all-works/text-list\n"
     ]
    }
   ],
   "source": [
    "wikiart('childe-hassam')"
   ]
  },
  {
   "cell_type": "code",
   "execution_count": 328,
   "metadata": {},
   "outputs": [
    {
     "name": "stdout",
     "output_type": "stream",
     "text": [
      "theophile-steinlen\n",
      "https://www.wikiart.org/en/theophile-steinlen/all-works/text-list\n"
     ]
    }
   ],
   "source": [
    "wikiart('theophile-steinlen')"
   ]
  },
  {
   "cell_type": "code",
   "execution_count": 329,
   "metadata": {},
   "outputs": [
    {
     "name": "stdout",
     "output_type": "stream",
     "text": [
      "henri-martin\n",
      "https://www.wikiart.org/en/henri-martin/all-works/text-list\n"
     ]
    }
   ],
   "source": [
    "wikiart('henri-martin')"
   ]
  },
  {
   "cell_type": "code",
   "execution_count": 330,
   "metadata": {},
   "outputs": [
    {
     "name": "stdout",
     "output_type": "stream",
     "text": [
      "isaac-levitan\n",
      "https://www.wikiart.org/en/isaac-levitan/all-works/text-list\n"
     ]
    }
   ],
   "source": [
    "wikiart('isaac-levitan')"
   ]
  },
  {
   "cell_type": "code",
   "execution_count": 331,
   "metadata": {},
   "outputs": [
    {
     "name": "stdout",
     "output_type": "stream",
     "text": [
      "konstantin-korovin\n",
      "https://www.wikiart.org/en/konstantin-korovin/all-works/text-list\n"
     ]
    }
   ],
   "source": [
    "wikiart('konstantin-korovin')"
   ]
  },
  {
   "cell_type": "code",
   "execution_count": 332,
   "metadata": {},
   "outputs": [
    {
     "name": "stdout",
     "output_type": "stream",
     "text": [
      "joaqu-n-sorolla\n",
      "https://www.wikiart.org/en/joaqu-n-sorolla/all-works/text-list\n"
     ]
    }
   ],
   "source": [
    "wikiart('joaqu-n-sorolla')"
   ]
  },
  {
   "cell_type": "code",
   "execution_count": 333,
   "metadata": {},
   "outputs": [
    {
     "name": "stdout",
     "output_type": "stream",
     "text": [
      "henri-de-toulouse-lautrec\n",
      "https://www.wikiart.org/en/henri-de-toulouse-lautrec/all-works/text-list\n"
     ]
    }
   ],
   "source": [
    "wikiart('henri-de-toulouse-lautrec')"
   ]
  },
  {
   "cell_type": "code",
   "execution_count": 334,
   "metadata": {},
   "outputs": [
    {
     "name": "stdout",
     "output_type": "stream",
     "text": [
      "henri-matisse\n",
      "https://www.wikiart.org/en/henri-matisse/all-works/text-list\n"
     ]
    }
   ],
   "source": [
    "wikiart('henri-matisse')"
   ]
  },
  {
   "cell_type": "code",
   "execution_count": 335,
   "metadata": {},
   "outputs": [
    {
     "name": "stdout",
     "output_type": "stream",
     "text": [
      "igor-grabar\n",
      "https://www.wikiart.org/en/igor-grabar/all-works/text-list\n"
     ]
    }
   ],
   "source": [
    "wikiart('igor-grabar')"
   ]
  },
  {
   "cell_type": "code",
   "execution_count": 336,
   "metadata": {},
   "outputs": [
    {
     "name": "stdout",
     "output_type": "stream",
     "text": [
      "nicholas-roerich\n",
      "https://www.wikiart.org/en/nicholas-roerich/all-works/text-list\n"
     ]
    }
   ],
   "source": [
    "wikiart('nicholas-roerich')"
   ]
  },
  {
   "cell_type": "code",
   "execution_count": 337,
   "metadata": {},
   "outputs": [
    {
     "name": "stdout",
     "output_type": "stream",
     "text": [
      "raphael-kirchner\n",
      "https://www.wikiart.org/en/raphael-kirchner/all-works/text-list\n"
     ]
    }
   ],
   "source": [
    "wikiart('raphael-kirchner')"
   ]
  },
  {
   "cell_type": "code",
   "execution_count": 338,
   "metadata": {},
   "outputs": [
    {
     "name": "stdout",
     "output_type": "stream",
     "text": [
      "pyotr-konchalovsky\n",
      "https://www.wikiart.org/en/pyotr-konchalovsky/all-works/text-list\n"
     ]
    }
   ],
   "source": [
    "wikiart('pyotr-konchalovsky')"
   ]
  },
  {
   "cell_type": "code",
   "execution_count": 339,
   "metadata": {},
   "outputs": [
    {
     "name": "stdout",
     "output_type": "stream",
     "text": [
      "boris-kustodiev\n",
      "https://www.wikiart.org/en/boris-kustodiev/all-works/text-list\n"
     ]
    }
   ],
   "source": [
    "wikiart('boris-kustodiev')"
   ]
  },
  {
   "cell_type": "code",
   "execution_count": 340,
   "metadata": {},
   "outputs": [
    {
     "name": "stdout",
     "output_type": "stream",
     "text": [
      "kazimir-malevich\n",
      "https://www.wikiart.org/en/kazimir-malevich/all-works/text-list\n"
     ]
    }
   ],
   "source": [
    "wikiart('kazimir-malevich')"
   ]
  },
  {
   "cell_type": "code",
   "execution_count": 341,
   "metadata": {},
   "outputs": [
    {
     "name": "stdout",
     "output_type": "stream",
     "text": [
      "paul-klee\n",
      "https://www.wikiart.org/en/paul-klee/all-works/text-list\n"
     ]
    }
   ],
   "source": [
    "wikiart('paul-klee')"
   ]
  },
  {
   "cell_type": "code",
   "execution_count": 342,
   "metadata": {},
   "outputs": [
    {
     "name": "stdout",
     "output_type": "stream",
     "text": [
      "martiros-sarian\n",
      "https://www.wikiart.org/en/martiros-sarian/all-works/text-list\n"
     ]
    }
   ],
   "source": [
    "wikiart('martiros-sarian')"
   ]
  },
  {
   "cell_type": "code",
   "execution_count": 343,
   "metadata": {},
   "outputs": [
    {
     "name": "stdout",
     "output_type": "stream",
     "text": [
      "ernst-ludwig-kirchner\n",
      "https://www.wikiart.org/en/ernst-ludwig-kirchner/all-works/text-list\n"
     ]
    }
   ],
   "source": [
    "wikiart('ernst-ludwig-kirchner')"
   ]
  },
  {
   "cell_type": "code",
   "execution_count": 344,
   "metadata": {},
   "outputs": [
    {
     "name": "stdout",
     "output_type": "stream",
     "text": [
      "fernand-leger\n",
      "https://www.wikiart.org/en/fernand-leger/all-works/text-list\n"
     ]
    }
   ],
   "source": [
    "wikiart('fernand-leger')"
   ]
  },
  {
   "cell_type": "code",
   "execution_count": 345,
   "metadata": {},
   "outputs": [
    {
     "name": "stdout",
     "output_type": "stream",
     "text": [
      "pablo-picasso\n",
      "https://www.wikiart.org/en/pablo-picasso/all-works/text-list\n"
     ]
    }
   ],
   "source": [
    "wikiart('pablo-picasso')"
   ]
  },
  {
   "cell_type": "code",
   "execution_count": 346,
   "metadata": {},
   "outputs": [
    {
     "name": "stdout",
     "output_type": "stream",
     "text": [
      "david-burliuk\n",
      "https://www.wikiart.org/en/david-burliuk/all-works/text-list\n"
     ]
    }
   ],
   "source": [
    "wikiart('david-burliuk')"
   ]
  },
  {
   "cell_type": "code",
   "execution_count": 347,
   "metadata": {},
   "outputs": [
    {
     "name": "stdout",
     "output_type": "stream",
     "text": [
      "zinaida-serebriakova\n",
      "https://www.wikiart.org/en/zinaida-serebriakova/all-works/text-list\n"
     ]
    }
   ],
   "source": [
    "wikiart('zinaida-serebriakova')"
   ]
  },
  {
   "cell_type": "code",
   "execution_count": 348,
   "metadata": {},
   "outputs": [
    {
     "name": "stdout",
     "output_type": "stream",
     "text": [
      "marc-chagall\n",
      "https://www.wikiart.org/en/marc-chagall/all-works/text-list\n"
     ]
    }
   ],
   "source": [
    "wikiart('marc-chagall')"
   ]
  },
  {
   "cell_type": "code",
   "execution_count": 349,
   "metadata": {},
   "outputs": [
    {
     "name": "stdout",
     "output_type": "stream",
     "text": [
      "egon-schiele\n",
      "https://www.wikiart.org/en/egon-schiele/all-works/text-list\n"
     ]
    }
   ],
   "source": [
    "wikiart('egon-schiele')"
   ]
  },
  {
   "cell_type": "code",
   "execution_count": 350,
   "metadata": {},
   "outputs": [
    {
     "name": "stdout",
     "output_type": "stream",
     "text": [
      "m-c-escher\n",
      "https://www.wikiart.org/en/m-c-escher/all-works/text-list\n"
     ]
    }
   ],
   "source": [
    "wikiart('m-c-escher')"
   ]
  },
  {
   "cell_type": "markdown",
   "metadata": {},
   "source": [
    "## Listado de Autores Siglo XIX"
   ]
  },
  {
   "cell_type": "code",
   "execution_count": 351,
   "metadata": {},
   "outputs": [
    {
     "name": "stdout",
     "output_type": "stream",
     "text": [
      "konstantin-makovsky\n",
      "https://www.wikiart.org/en/konstantin-makovsky/all-works/text-list\n"
     ]
    }
   ],
   "source": [
    "wikiart('konstantin-makovsky')"
   ]
  },
  {
   "cell_type": "code",
   "execution_count": 352,
   "metadata": {},
   "outputs": [
    {
     "name": "stdout",
     "output_type": "stream",
     "text": [
      "felix-vallotton\n",
      "https://www.wikiart.org/en/felix-vallotton/all-works/text-list\n"
     ]
    }
   ],
   "source": [
    "wikiart('felix-vallotton')"
   ]
  },
  {
   "cell_type": "code",
   "execution_count": 353,
   "metadata": {},
   "outputs": [
    {
     "name": "stdout",
     "output_type": "stream",
     "text": [
      "konstantin-somov\n",
      "https://www.wikiart.org/en/konstantin-somov/all-works/text-list\n"
     ]
    }
   ],
   "source": [
    "wikiart('konstantin-somov')"
   ]
  },
  {
   "cell_type": "code",
   "execution_count": 354,
   "metadata": {},
   "outputs": [
    {
     "name": "stdout",
     "output_type": "stream",
     "text": [
      "raphael-kirchner\n",
      "https://www.wikiart.org/en/raphael-kirchner/all-works/text-list\n"
     ]
    }
   ],
   "source": [
    "wikiart('raphael-kirchner')"
   ]
  },
  {
   "cell_type": "code",
   "execution_count": 355,
   "metadata": {},
   "outputs": [
    {
     "name": "stdout",
     "output_type": "stream",
     "text": [
      "pyotr-konchalovsky\n",
      "https://www.wikiart.org/en/pyotr-konchalovsky/all-works/text-list\n"
     ]
    }
   ],
   "source": [
    "wikiart('pyotr-konchalovsky')"
   ]
  },
  {
   "cell_type": "code",
   "execution_count": 356,
   "metadata": {},
   "outputs": [
    {
     "name": "stdout",
     "output_type": "stream",
     "text": [
      "boris-kustodiev\n",
      "https://www.wikiart.org/en/boris-kustodiev/all-works/text-list\n"
     ]
    }
   ],
   "source": [
    "wikiart('boris-kustodiev')"
   ]
  },
  {
   "cell_type": "code",
   "execution_count": 357,
   "metadata": {},
   "outputs": [
    {
     "name": "stdout",
     "output_type": "stream",
     "text": [
      "amedeo-modigliani\n",
      "https://www.wikiart.org/en/amedeo-modigliani/all-works/text-list\n"
     ]
    }
   ],
   "source": [
    "wikiart('amedeo-modigliani')"
   ]
  },
  {
   "cell_type": "code",
   "execution_count": 358,
   "metadata": {},
   "outputs": [
    {
     "name": "stdout",
     "output_type": "stream",
     "text": [
      "juan-gris\n",
      "https://www.wikiart.org/en/juan-gris/all-works/text-list\n"
     ]
    }
   ],
   "source": [
    "wikiart('juan-gris')"
   ]
  },
  {
   "cell_type": "code",
   "execution_count": 359,
   "metadata": {},
   "outputs": [
    {
     "name": "stdout",
     "output_type": "stream",
     "text": [
      "georgia-o-keeffe\n",
      "https://www.wikiart.org/en/georgia-o-keeffe/all-works/text-list\n"
     ]
    }
   ],
   "source": [
    "wikiart('georgia-o-keeffe')"
   ]
  },
  {
   "cell_type": "code",
   "execution_count": 360,
   "metadata": {},
   "outputs": [
    {
     "name": "stdout",
     "output_type": "stream",
     "text": [
      "kmetty-janos\n",
      "https://www.wikiart.org/en/kmetty-janos/all-works/text-list\n"
     ]
    }
   ],
   "source": [
    "wikiart('kmetty-janos')"
   ]
  },
  {
   "cell_type": "code",
   "execution_count": 361,
   "metadata": {},
   "outputs": [
    {
     "name": "stdout",
     "output_type": "stream",
     "text": [
      "joan-miro\n",
      "https://www.wikiart.org/en/joan-miro/all-works/text-list\n"
     ]
    }
   ],
   "source": [
    "wikiart('joan-miro')"
   ]
  },
  {
   "cell_type": "code",
   "execution_count": 362,
   "metadata": {},
   "outputs": [
    {
     "name": "stdout",
     "output_type": "stream",
     "text": [
      "alexander-calder\n",
      "https://www.wikiart.org/en/alexander-calder/all-works/text-list\n"
     ]
    }
   ],
   "source": [
    "wikiart('alexander-calder')"
   ]
  },
  {
   "cell_type": "code",
   "execution_count": 363,
   "metadata": {},
   "outputs": [
    {
     "name": "stdout",
     "output_type": "stream",
     "text": [
      "rene-magritte\n",
      "https://www.wikiart.org/en/rene-magritte/all-works/text-list\n"
     ]
    }
   ],
   "source": [
    "wikiart('rene-magritte')"
   ]
  },
  {
   "cell_type": "code",
   "execution_count": 364,
   "metadata": {},
   "outputs": [
    {
     "name": "stdout",
     "output_type": "stream",
     "text": [
      "william-h-johnson\n",
      "https://www.wikiart.org/en/william-h-johnson/all-works/text-list\n"
     ]
    }
   ],
   "source": [
    "wikiart('william-h-johnson')"
   ]
  },
  {
   "cell_type": "code",
   "execution_count": 365,
   "metadata": {},
   "outputs": [
    {
     "name": "stdout",
     "output_type": "stream",
     "text": [
      "mark-rothko\n",
      "https://www.wikiart.org/en/mark-rothko/all-works/text-list\n"
     ]
    }
   ],
   "source": [
    "wikiart('mark-rothko')"
   ]
  },
  {
   "cell_type": "code",
   "execution_count": 366,
   "metadata": {},
   "outputs": [
    {
     "name": "stdout",
     "output_type": "stream",
     "text": [
      "walter-battiss\n",
      "https://www.wikiart.org/en/walter-battiss/all-works/text-list\n"
     ]
    }
   ],
   "source": [
    "wikiart('walter-battiss')"
   ]
  },
  {
   "cell_type": "code",
   "execution_count": 367,
   "metadata": {},
   "outputs": [
    {
     "name": "stdout",
     "output_type": "stream",
     "text": [
      "frida-kahlo\n",
      "https://www.wikiart.org/en/frida-kahlo/all-works/text-list\n"
     ]
    }
   ],
   "source": [
    "wikiart('frida-kahlo')"
   ]
  },
  {
   "cell_type": "code",
   "execution_count": 368,
   "metadata": {},
   "outputs": [
    {
     "name": "stdout",
     "output_type": "stream",
     "text": [
      "graham-sutherland\n",
      "https://www.wikiart.org/en/graham-sutherland/all-works/text-list\n"
     ]
    }
   ],
   "source": [
    "wikiart('graham-sutherland')"
   ]
  },
  {
   "cell_type": "code",
   "execution_count": 369,
   "metadata": {},
   "outputs": [
    {
     "name": "stdout",
     "output_type": "stream",
     "text": [
      "maria-primachenko\n",
      "https://www.wikiart.org/en/maria-primachenko/all-works/text-list\n"
     ]
    }
   ],
   "source": [
    "wikiart('maria-primachenko')"
   ]
  },
  {
   "cell_type": "code",
   "execution_count": 370,
   "metadata": {},
   "outputs": [
    {
     "name": "stdout",
     "output_type": "stream",
     "text": [
      "remedios-varo\n",
      "https://www.wikiart.org/en/remedios-varo/all-works/text-list\n"
     ]
    }
   ],
   "source": [
    "wikiart('remedios-varo')"
   ]
  },
  {
   "cell_type": "code",
   "execution_count": 371,
   "metadata": {},
   "outputs": [
    {
     "name": "stdout",
     "output_type": "stream",
     "text": [
      "francis-bacon\n",
      "https://www.wikiart.org/en/francis-bacon/all-works/text-list\n"
     ]
    }
   ],
   "source": [
    "wikiart('francis-bacon')"
   ]
  },
  {
   "cell_type": "code",
   "execution_count": 372,
   "metadata": {},
   "outputs": [
    {
     "name": "stdout",
     "output_type": "stream",
     "text": [
      "yiannis-tsaroychis\n",
      "https://www.wikiart.org/en/yiannis-tsaroychis/all-works/text-list\n"
     ]
    }
   ],
   "source": [
    "wikiart('yiannis-tsaroychis')"
   ]
  },
  {
   "cell_type": "code",
   "execution_count": 373,
   "metadata": {},
   "outputs": [
    {
     "name": "stdout",
     "output_type": "stream",
     "text": [
      "antoine-blanchard\n",
      "https://www.wikiart.org/en/antoine-blanchard/all-works/text-list\n"
     ]
    }
   ],
   "source": [
    "wikiart('antoine-blanchard')"
   ]
  },
  {
   "cell_type": "code",
   "execution_count": 374,
   "metadata": {},
   "outputs": [
    {
     "name": "stdout",
     "output_type": "stream",
     "text": [
      "jackson-pollock\n",
      "https://www.wikiart.org/en/jackson-pollock/all-works/text-list\n"
     ]
    }
   ],
   "source": [
    "wikiart('jackson-pollock')"
   ]
  },
  {
   "cell_type": "code",
   "execution_count": 375,
   "metadata": {},
   "outputs": [
    {
     "name": "stdout",
     "output_type": "stream",
     "text": [
      "ivan-generalic\n",
      "https://www.wikiart.org/en/ivan-generalic/all-works/text-list\n"
     ]
    }
   ],
   "source": [
    "wikiart('ivan-generalic')"
   ]
  },
  {
   "cell_type": "code",
   "execution_count": 376,
   "metadata": {},
   "outputs": [
    {
     "name": "stdout",
     "output_type": "stream",
     "text": [
      "friedel-dzubas\n",
      "https://www.wikiart.org/en/friedel-dzubas/all-works/text-list\n"
     ]
    }
   ],
   "source": [
    "wikiart('friedel-dzubas')"
   ]
  },
  {
   "cell_type": "code",
   "execution_count": 377,
   "metadata": {},
   "outputs": [
    {
     "name": "stdout",
     "output_type": "stream",
     "text": [
      "eyvind-earle\n",
      "https://www.wikiart.org/en/eyvind-earle/all-works/text-list\n"
     ]
    }
   ],
   "source": [
    "wikiart('eyvind-earle')"
   ]
  },
  {
   "cell_type": "code",
   "execution_count": 378,
   "metadata": {},
   "outputs": [
    {
     "name": "stdout",
     "output_type": "stream",
     "text": [
      "tetyana-yablonska\n",
      "https://www.wikiart.org/en/tetyana-yablonska/all-works/text-list\n"
     ]
    }
   ],
   "source": [
    "wikiart('tetyana-yablonska')"
   ]
  },
  {
   "cell_type": "code",
   "execution_count": 379,
   "metadata": {},
   "outputs": [
    {
     "name": "stdout",
     "output_type": "stream",
     "text": [
      "andrew-wyeth\n",
      "https://www.wikiart.org/en/andrew-wyeth/all-works/text-list\n"
     ]
    }
   ],
   "source": [
    "wikiart('andrew-wyeth')"
   ]
  },
  {
   "cell_type": "code",
   "execution_count": 380,
   "metadata": {},
   "outputs": [
    {
     "name": "stdout",
     "output_type": "stream",
     "text": [
      "robert-goodnough\n",
      "https://www.wikiart.org/en/robert-goodnough/all-works/text-list\n"
     ]
    }
   ],
   "source": [
    "wikiart('robert-goodnough')"
   ]
  },
  {
   "cell_type": "code",
   "execution_count": 381,
   "metadata": {},
   "outputs": [
    {
     "name": "stdout",
     "output_type": "stream",
     "text": [
      "gene-davis\n",
      "https://www.wikiart.org/en/gene-davis/all-works/text-list\n"
     ]
    }
   ],
   "source": [
    "wikiart('gene-davis')"
   ]
  },
  {
   "cell_type": "code",
   "execution_count": 382,
   "metadata": {},
   "outputs": [
    {
     "name": "stdout",
     "output_type": "stream",
     "text": [
      "jeffrey-smart\n",
      "https://www.wikiart.org/en/jeffrey-smart/all-works/text-list\n"
     ]
    }
   ],
   "source": [
    "wikiart('jeffrey-smart')"
   ]
  },
  {
   "cell_type": "code",
   "execution_count": 383,
   "metadata": {},
   "outputs": [
    {
     "name": "stdout",
     "output_type": "stream",
     "text": [
      "lucian-freud\n",
      "https://www.wikiart.org/en/lucian-freud/all-works/text-list\n"
     ]
    }
   ],
   "source": [
    "wikiart('lucian-freud')"
   ]
  },
  {
   "cell_type": "code",
   "execution_count": 384,
   "metadata": {},
   "outputs": [
    {
     "name": "stdout",
     "output_type": "stream",
     "text": [
      "theodoros-stamos\n",
      "https://www.wikiart.org/en/theodoros-stamos/all-works/text-list\n"
     ]
    }
   ],
   "source": [
    "wikiart('theodoros-stamos')"
   ]
  },
  {
   "cell_type": "code",
   "execution_count": 385,
   "metadata": {},
   "outputs": [
    {
     "name": "stdout",
     "output_type": "stream",
     "text": [
      "roy-lichtenstein\n",
      "https://www.wikiart.org/en/roy-lichtenstein/all-works/text-list\n"
     ]
    }
   ],
   "source": [
    "wikiart('roy-lichtenstein')"
   ]
  },
  {
   "cell_type": "code",
   "execution_count": 386,
   "metadata": {},
   "outputs": [
    {
     "name": "stdout",
     "output_type": "stream",
     "text": [
      "ellsworth-kelly\n",
      "https://www.wikiart.org/en/ellsworth-kelly/all-works/text-list\n"
     ]
    }
   ],
   "source": [
    "wikiart('ellsworth-kelly')"
   ]
  },
  {
   "cell_type": "code",
   "execution_count": 387,
   "metadata": {},
   "outputs": [
    {
     "name": "stdout",
     "output_type": "stream",
     "text": [
      "sam-francis\n",
      "https://www.wikiart.org/en/sam-francis/all-works/text-list\n"
     ]
    }
   ],
   "source": [
    "wikiart('sam-francis')"
   ]
  },
  {
   "cell_type": "code",
   "execution_count": 388,
   "metadata": {},
   "outputs": [
    {
     "name": "stdout",
     "output_type": "stream",
     "text": [
      "paul-jenkins\n",
      "https://www.wikiart.org/en/paul-jenkins/all-works/text-list\n"
     ]
    }
   ],
   "source": [
    "wikiart('paul-jenkins')"
   ]
  },
  {
   "cell_type": "code",
   "execution_count": 389,
   "metadata": {},
   "outputs": [
    {
     "name": "stdout",
     "output_type": "stream",
     "text": [
      "miriam-schapiro\n",
      "https://www.wikiart.org/en/miriam-schapiro/all-works/text-list\n"
     ]
    }
   ],
   "source": [
    "wikiart('miriam-schapiro')"
   ]
  },
  {
   "cell_type": "code",
   "execution_count": 390,
   "metadata": {},
   "outputs": [
    {
     "name": "stdout",
     "output_type": "stream",
     "text": [
      "enrico-baj\n",
      "https://www.wikiart.org/en/enrico-baj/all-works/text-list\n"
     ]
    }
   ],
   "source": [
    "wikiart('enrico-baj')"
   ]
  },
  {
   "cell_type": "code",
   "execution_count": 391,
   "metadata": {},
   "outputs": [
    {
     "name": "stdout",
     "output_type": "stream",
     "text": [
      "victor-zaretsky\n",
      "https://www.wikiart.org/en/victor-zaretsky/all-works/text-list\n"
     ]
    }
   ],
   "source": [
    "wikiart('victor-zaretsky')"
   ]
  },
  {
   "cell_type": "code",
   "execution_count": 392,
   "metadata": {},
   "outputs": [
    {
     "name": "stdout",
     "output_type": "stream",
     "text": [
      "robert-rauschenberg\n",
      "https://www.wikiart.org/en/robert-rauschenberg/all-works/text-list\n"
     ]
    }
   ],
   "source": [
    "wikiart('robert-rauschenberg')"
   ]
  },
  {
   "cell_type": "code",
   "execution_count": 393,
   "metadata": {},
   "outputs": [
    {
     "name": "stdout",
     "output_type": "stream",
     "text": [
      "lygia-pape\n",
      "https://www.wikiart.org/en/lygia-pape/all-works/text-list\n"
     ]
    }
   ],
   "source": [
    "wikiart('lygia-pape')"
   ]
  },
  {
   "cell_type": "code",
   "execution_count": 394,
   "metadata": {},
   "outputs": [
    {
     "name": "stdout",
     "output_type": "stream",
     "text": [
      "pierre-alechinsky\n",
      "https://www.wikiart.org/en/pierre-alechinsky/all-works/text-list\n"
     ]
    }
   ],
   "source": [
    "wikiart('pierre-alechinsky')"
   ]
  },
  {
   "cell_type": "code",
   "execution_count": 395,
   "metadata": {},
   "outputs": [
    {
     "name": "stdout",
     "output_type": "stream",
     "text": [
      "khimich-yuriy-ivanovich\n",
      "https://www.wikiart.org/en/khimich-yuriy-ivanovich/all-works/text-list\n"
     ]
    }
   ],
   "source": [
    "wikiart('khimich-yuriy-ivanovich')"
   ]
  },
  {
   "cell_type": "code",
   "execution_count": 396,
   "metadata": {},
   "outputs": [
    {
     "name": "stdout",
     "output_type": "stream",
     "text": [
      "cy-twombly\n",
      "https://www.wikiart.org/en/cy-twombly/all-works/text-list\n"
     ]
    }
   ],
   "source": [
    "wikiart('cy-twombly')"
   ]
  },
  {
   "cell_type": "code",
   "execution_count": 397,
   "metadata": {},
   "outputs": [
    {
     "name": "stdout",
     "output_type": "stream",
     "text": [
      "john-bratby\n",
      "https://www.wikiart.org/en/john-bratby/all-works/text-list\n"
     ]
    }
   ],
   "source": [
    "wikiart('john-bratby')"
   ]
  },
  {
   "cell_type": "code",
   "execution_count": 398,
   "metadata": {},
   "outputs": [
    {
     "name": "stdout",
     "output_type": "stream",
     "text": [
      "andy-warhol\n",
      "https://www.wikiart.org/en/andy-warhol/all-works/text-list\n"
     ]
    }
   ],
   "source": [
    "wikiart('andy-warhol')"
   ]
  },
  {
   "cell_type": "code",
   "execution_count": 399,
   "metadata": {},
   "outputs": [
    {
     "name": "stdout",
     "output_type": "stream",
     "text": [
      "charles-blackman\n",
      "https://www.wikiart.org/en/charles-blackman/all-works/text-list\n"
     ]
    }
   ],
   "source": [
    "wikiart('charles-blackman')"
   ]
  },
  {
   "cell_type": "code",
   "execution_count": 400,
   "metadata": {},
   "outputs": [
    {
     "name": "stdout",
     "output_type": "stream",
     "text": [
      "sol-lewitt\n",
      "https://www.wikiart.org/en/sol-lewitt/all-works/text-list\n"
     ]
    }
   ],
   "source": [
    "wikiart('sol-lewitt')"
   ]
  },
  {
   "cell_type": "code",
   "execution_count": 401,
   "metadata": {},
   "outputs": [
    {
     "name": "stdout",
     "output_type": "stream",
     "text": [
      "helen-frankenthaler\n",
      "https://www.wikiart.org/en/helen-frankenthaler/all-works/text-list\n"
     ]
    }
   ],
   "source": [
    "wikiart('helen-frankenthaler')"
   ]
  },
  {
   "cell_type": "code",
   "execution_count": 402,
   "metadata": {},
   "outputs": [
    {
     "name": "stdout",
     "output_type": "stream",
     "text": [
      "friedensreich-hundertwasser\n",
      "https://www.wikiart.org/en/friedensreich-hundertwasser/all-works/text-list\n"
     ]
    }
   ],
   "source": [
    "wikiart('friedensreich-hundertwasser')"
   ]
  },
  {
   "cell_type": "code",
   "execution_count": 403,
   "metadata": {},
   "outputs": [
    {
     "name": "stdout",
     "output_type": "stream",
     "text": [
      "constantin-piliuta\n",
      "https://www.wikiart.org/en/constantin-piliuta/all-works/text-list\n"
     ]
    }
   ],
   "source": [
    "wikiart('constantin-piliuta')"
   ]
  },
  {
   "cell_type": "code",
   "execution_count": 404,
   "metadata": {},
   "outputs": [
    {
     "name": "stdout",
     "output_type": "stream",
     "text": [
      "avigdor-arikha\n",
      "https://www.wikiart.org/en/avigdor-arikha/all-works/text-list\n"
     ]
    }
   ],
   "source": [
    "wikiart('avigdor-arikha')"
   ]
  },
  {
   "cell_type": "code",
   "execution_count": 405,
   "metadata": {},
   "outputs": [
    {
     "name": "stdout",
     "output_type": "stream",
     "text": [
      "neil-welliver\n",
      "https://www.wikiart.org/en/neil-welliver/all-works/text-list\n"
     ]
    }
   ],
   "source": [
    "wikiart('neil-welliver')"
   ]
  },
  {
   "cell_type": "code",
   "execution_count": 406,
   "metadata": {},
   "outputs": [
    {
     "name": "stdout",
     "output_type": "stream",
     "text": [
      "walasse-ting\n",
      "https://www.wikiart.org/en/walasse-ting/all-works/text-list\n"
     ]
    }
   ],
   "source": [
    "wikiart('walasse-ting')"
   ]
  },
  {
   "cell_type": "code",
   "execution_count": 407,
   "metadata": {},
   "outputs": [
    {
     "name": "stdout",
     "output_type": "stream",
     "text": [
      "dieter-roth\n",
      "https://www.wikiart.org/en/dieter-roth/all-works/text-list\n"
     ]
    }
   ],
   "source": [
    "wikiart('dieter-roth')"
   ]
  },
  {
   "cell_type": "code",
   "execution_count": 408,
   "metadata": {},
   "outputs": [
    {
     "name": "stdout",
     "output_type": "stream",
     "text": [
      "benny-andrews\n",
      "https://www.wikiart.org/en/benny-andrews/all-works/text-list\n"
     ]
    }
   ],
   "source": [
    "wikiart('benny-andrews')"
   ]
  },
  {
   "cell_type": "code",
   "execution_count": 409,
   "metadata": {},
   "outputs": [
    {
     "name": "stdout",
     "output_type": "stream",
     "text": [
      "john-miller\n",
      "https://www.wikiart.org/en/john-miller/all-works/text-list\n"
     ]
    }
   ],
   "source": [
    "wikiart('john-miller')"
   ]
  },
  {
   "cell_type": "code",
   "execution_count": 410,
   "metadata": {},
   "outputs": [
    {
     "name": "stdout",
     "output_type": "stream",
     "text": [
      "norval-morrisseau\n",
      "https://www.wikiart.org/en/norval-morrisseau/all-works/text-list\n"
     ]
    }
   ],
   "source": [
    "wikiart('norval-morrisseau')"
   ]
  },
  {
   "cell_type": "code",
   "execution_count": 411,
   "metadata": {},
   "outputs": [
    {
     "name": "stdout",
     "output_type": "stream",
     "text": [
      "abdul-mati-klarwein\n",
      "https://www.wikiart.org/en/abdul-mati-klarwein/all-works/text-list\n"
     ]
    }
   ],
   "source": [
    "wikiart('abdul-mati-klarwein')"
   ]
  },
  {
   "cell_type": "code",
   "execution_count": 412,
   "metadata": {},
   "outputs": [
    {
     "name": "stdout",
     "output_type": "stream",
     "text": [
      "gerhard-richter\n",
      "https://www.wikiart.org/en/gerhard-richter/all-works/text-list\n"
     ]
    }
   ],
   "source": [
    "wikiart('gerhard-richter')"
   ]
  },
  {
   "cell_type": "code",
   "execution_count": 413,
   "metadata": {},
   "outputs": [
    {
     "name": "stdout",
     "output_type": "stream",
     "text": [
      "fernando-botero\n",
      "https://www.wikiart.org/en/fernando-botero/all-works/text-list\n"
     ]
    }
   ],
   "source": [
    "wikiart('fernando-botero')"
   ]
  },
  {
   "cell_type": "code",
   "execution_count": 414,
   "metadata": {},
   "outputs": [
    {
     "name": "stdout",
     "output_type": "stream",
     "text": [
      "romul-nutiu\n",
      "https://www.wikiart.org/en/romul-nutiu/all-works/text-list\n"
     ]
    }
   ],
   "source": [
    "wikiart('romul-nutiu')"
   ]
  },
  {
   "cell_type": "code",
   "execution_count": 415,
   "metadata": {},
   "outputs": [
    {
     "name": "stdout",
     "output_type": "stream",
     "text": [
      "dimitris-mytaras\n",
      "https://www.wikiart.org/en/dimitris-mytaras/all-works/text-list\n"
     ]
    }
   ],
   "source": [
    "wikiart('dimitris-mytaras')"
   ]
  },
  {
   "cell_type": "code",
   "execution_count": 416,
   "metadata": {},
   "outputs": [
    {
     "name": "stdout",
     "output_type": "stream",
     "text": [
      "john-hoyland\n",
      "https://www.wikiart.org/en/john-hoyland/all-works/text-list\n"
     ]
    }
   ],
   "source": [
    "wikiart('john-hoyland')"
   ]
  },
  {
   "cell_type": "code",
   "execution_count": 417,
   "metadata": {},
   "outputs": [
    {
     "name": "stdout",
     "output_type": "stream",
     "text": [
      "frank-stella\n",
      "https://www.wikiart.org/en/frank-stella/all-works/text-list\n"
     ]
    }
   ],
   "source": [
    "wikiart('frank-stella')"
   ]
  },
  {
   "cell_type": "code",
   "execution_count": 418,
   "metadata": {},
   "outputs": [
    {
     "name": "stdout",
     "output_type": "stream",
     "text": [
      "edward-ruscha\n",
      "https://www.wikiart.org/en/edward-ruscha/all-works/text-list\n"
     ]
    }
   ],
   "source": [
    "wikiart('edward-ruscha')"
   ]
  },
  {
   "cell_type": "code",
   "execution_count": 419,
   "metadata": {},
   "outputs": [
    {
     "name": "stdout",
     "output_type": "stream",
     "text": [
      "konstantin-vasilyev\n",
      "https://www.wikiart.org/en/konstantin-vasilyev/all-works/text-list\n"
     ]
    }
   ],
   "source": [
    "wikiart('konstantin-vasilyev')"
   ]
  },
  {
   "cell_type": "code",
   "execution_count": 420,
   "metadata": {},
   "outputs": [
    {
     "name": "stdout",
     "output_type": "stream",
     "text": [
      "james-turrell\n",
      "https://www.wikiart.org/en/james-turrell/all-works/text-list\n"
     ]
    }
   ],
   "source": [
    "wikiart('james-turrell')"
   ]
  },
  {
   "cell_type": "code",
   "execution_count": 421,
   "metadata": {},
   "outputs": [
    {
     "name": "stdout",
     "output_type": "stream",
     "text": [
      "odd-nerdrum\n",
      "https://www.wikiart.org/en/odd-nerdrum/all-works/text-list\n"
     ]
    }
   ],
   "source": [
    "wikiart('odd-nerdrum')"
   ]
  },
  {
   "cell_type": "code",
   "execution_count": 422,
   "metadata": {},
   "outputs": [
    {
     "name": "stdout",
     "output_type": "stream",
     "text": [
      "michael-sowa\n",
      "https://www.wikiart.org/en/michael-sowa/all-works/text-list\n"
     ]
    }
   ],
   "source": [
    "wikiart('michael-sowa')"
   ]
  },
  {
   "cell_type": "code",
   "execution_count": 423,
   "metadata": {},
   "outputs": [
    {
     "name": "stdout",
     "output_type": "stream",
     "text": [
      "jamie-wyeth\n",
      "https://www.wikiart.org/en/jamie-wyeth/all-works/text-list\n"
     ]
    }
   ],
   "source": [
    "wikiart('jamie-wyeth')"
   ]
  },
  {
   "cell_type": "code",
   "execution_count": 424,
   "metadata": {},
   "outputs": [
    {
     "name": "stdout",
     "output_type": "stream",
     "text": [
      "ronnie-landfield\n",
      "https://www.wikiart.org/en/ronnie-landfield/all-works/text-list\n"
     ]
    }
   ],
   "source": [
    "wikiart('ronnie-landfield')"
   ]
  },
  {
   "cell_type": "code",
   "execution_count": 425,
   "metadata": {},
   "outputs": [
    {
     "name": "stdout",
     "output_type": "stream",
     "text": [
      "hiro-yamagata\n",
      "https://www.wikiart.org/en/hiro-yamagata/all-works/text-list\n"
     ]
    }
   ],
   "source": [
    "wikiart('hiro-yamagata')"
   ]
  },
  {
   "cell_type": "code",
   "execution_count": 426,
   "metadata": {},
   "outputs": [
    {
     "name": "stdout",
     "output_type": "stream",
     "text": [
      "roger-weik\n",
      "https://www.wikiart.org/en/roger-weik/all-works/text-list\n"
     ]
    }
   ],
   "source": [
    "wikiart('roger-weik')"
   ]
  },
  {
   "cell_type": "code",
   "execution_count": 427,
   "metadata": {},
   "outputs": [
    {
     "name": "stdout",
     "output_type": "stream",
     "text": [
      "sue-coe\n",
      "https://www.wikiart.org/en/sue-coe/all-works/text-list\n"
     ]
    }
   ],
   "source": [
    "wikiart('sue-coe')"
   ]
  },
  {
   "cell_type": "code",
   "execution_count": 428,
   "metadata": {},
   "outputs": [
    {
     "name": "stdout",
     "output_type": "stream",
     "text": [
      "jacek-yerka\n",
      "https://www.wikiart.org/en/jacek-yerka/all-works/text-list\n"
     ]
    }
   ],
   "source": [
    "wikiart('jacek-yerka')"
   ]
  },
  {
   "cell_type": "code",
   "execution_count": 429,
   "metadata": {},
   "outputs": [
    {
     "name": "stdout",
     "output_type": "stream",
     "text": [
      "alfio-giuffrida\n",
      "https://www.wikiart.org/en/alfio-giuffrida/all-works/text-list\n"
     ]
    }
   ],
   "source": [
    "wikiart('alfio-giuffrida')"
   ]
  },
  {
   "cell_type": "code",
   "execution_count": 430,
   "metadata": {},
   "outputs": [
    {
     "name": "stdout",
     "output_type": "stream",
     "text": [
      "lech-jankowski\n",
      "https://www.wikiart.org/en/lech-jankowski/all-works/text-list\n"
     ]
    }
   ],
   "source": [
    "wikiart('lech-jankowski')"
   ]
  },
  {
   "cell_type": "code",
   "execution_count": 431,
   "metadata": {},
   "outputs": [
    {
     "name": "stdout",
     "output_type": "stream",
     "text": [
      "dan-witz\n",
      "https://www.wikiart.org/en/dan-witz/all-works/text-list\n"
     ]
    }
   ],
   "source": [
    "wikiart('dan-witz')"
   ]
  },
  {
   "cell_type": "code",
   "execution_count": 432,
   "metadata": {},
   "outputs": [
    {
     "name": "stdout",
     "output_type": "stream",
     "text": [
      "luc-tuymans\n",
      "https://www.wikiart.org/en/luc-tuymans/all-works/text-list\n"
     ]
    }
   ],
   "source": [
    "wikiart('luc-tuymans')"
   ]
  },
  {
   "cell_type": "code",
   "execution_count": 433,
   "metadata": {},
   "outputs": [
    {
     "name": "stdout",
     "output_type": "stream",
     "text": [
      "keith-haring\n",
      "https://www.wikiart.org/en/keith-haring/all-works/text-list\n"
     ]
    }
   ],
   "source": [
    "wikiart('keith-haring')"
   ]
  },
  {
   "cell_type": "code",
   "execution_count": 434,
   "metadata": {},
   "outputs": [
    {
     "name": "stdout",
     "output_type": "stream",
     "text": [
      "nina-tokhtaman-valetova\n",
      "https://www.wikiart.org/en/nina-tokhtaman-valetova/all-works/text-list\n"
     ]
    }
   ],
   "source": [
    "wikiart('nina-tokhtaman-valetova')"
   ]
  },
  {
   "cell_type": "code",
   "execution_count": 435,
   "metadata": {},
   "outputs": [
    {
     "name": "stdout",
     "output_type": "stream",
     "text": [
      "malgorzata-serwatka\n",
      "https://www.wikiart.org/en/malgorzata-serwatka/all-works/text-list\n"
     ]
    }
   ],
   "source": [
    "wikiart('malgorzata-serwatka')"
   ]
  },
  {
   "cell_type": "code",
   "execution_count": 436,
   "metadata": {},
   "outputs": [
    {
     "name": "stdout",
     "output_type": "stream",
     "text": [
      "jean-michel-basquiat\n",
      "https://www.wikiart.org/en/jean-michel-basquiat/all-works/text-list\n"
     ]
    }
   ],
   "source": [
    "wikiart('jean-michel-basquiat')"
   ]
  },
  {
   "cell_type": "code",
   "execution_count": 437,
   "metadata": {},
   "outputs": [
    {
     "name": "stdout",
     "output_type": "stream",
     "text": [
      "oleksandr-hnylyzkyj\n",
      "https://www.wikiart.org/en/oleksandr-hnylyzkyj/all-works/text-list\n"
     ]
    }
   ],
   "source": [
    "wikiart('oleksandr-hnylyzkyj')"
   ]
  },
  {
   "cell_type": "code",
   "execution_count": 438,
   "metadata": {},
   "outputs": [
    {
     "name": "stdout",
     "output_type": "stream",
     "text": [
      "alexander-roitburd\n",
      "https://www.wikiart.org/en/alexander-roitburd/all-works/text-list\n"
     ]
    }
   ],
   "source": [
    "wikiart('alexander-roitburd')"
   ]
  },
  {
   "cell_type": "code",
   "execution_count": 439,
   "metadata": {},
   "outputs": [
    {
     "name": "stdout",
     "output_type": "stream",
     "text": [
      "manuel-alcaide-mengual\n",
      "https://www.wikiart.org/en/manuel-alcaide-mengual/all-works/text-list\n"
     ]
    }
   ],
   "source": [
    "wikiart('manuel-alcaide-mengual')"
   ]
  },
  {
   "cell_type": "code",
   "execution_count": 440,
   "metadata": {},
   "outputs": [
    {
     "name": "stdout",
     "output_type": "stream",
     "text": [
      "arsen-savadov\n",
      "https://www.wikiart.org/en/arsen-savadov/all-works/text-list\n"
     ]
    }
   ],
   "source": [
    "wikiart('arsen-savadov')"
   ]
  },
  {
   "cell_type": "code",
   "execution_count": 441,
   "metadata": {},
   "outputs": [
    {
     "name": "stdout",
     "output_type": "stream",
     "text": [
      "david-michael-hinnebusch\n",
      "https://www.wikiart.org/en/david-michael-hinnebusch/all-works/text-list\n"
     ]
    }
   ],
   "source": [
    "wikiart('david-michael-hinnebusch')"
   ]
  },
  {
   "cell_type": "code",
   "execution_count": 442,
   "metadata": {},
   "outputs": [
    {
     "name": "stdout",
     "output_type": "stream",
     "text": [
      "oleg-holosiy\n",
      "https://www.wikiart.org/en/oleg-holosiy/all-works/text-list\n"
     ]
    }
   ],
   "source": [
    "wikiart('oleg-holosiy')"
   ]
  },
  {
   "cell_type": "code",
   "execution_count": 443,
   "metadata": {},
   "outputs": [
    {
     "name": "stdout",
     "output_type": "stream",
     "text": [
      "ilya-isupov\n",
      "https://www.wikiart.org/en/ilya-isupov/all-works/text-list\n"
     ]
    }
   ],
   "source": [
    "wikiart('ilya-isupov')"
   ]
  },
  {
   "cell_type": "code",
   "execution_count": 444,
   "metadata": {},
   "outputs": [
    {
     "name": "stdout",
     "output_type": "stream",
     "text": [
      "alfred-freddy-krupa\n",
      "https://www.wikiart.org/en/alfred-freddy-krupa/all-works/text-list\n"
     ]
    }
   ],
   "source": [
    "wikiart('alfred-freddy-krupa')"
   ]
  },
  {
   "cell_type": "code",
   "execution_count": 445,
   "metadata": {},
   "outputs": [
    {
     "name": "stdout",
     "output_type": "stream",
     "text": [
      "kukryniksy\n",
      "https://www.wikiart.org/en/kukryniksy/all-works/text-list\n"
     ]
    }
   ],
   "source": [
    "wikiart('kukryniksy')"
   ]
  },
  {
   "cell_type": "code",
   "execution_count": 446,
   "metadata": {},
   "outputs": [
    {
     "name": "stdout",
     "output_type": "stream",
     "text": [
      "sonia-delaunay\n",
      "https://www.wikiart.org/en/sonia-delaunay/all-works/text-list\n"
     ]
    }
   ],
   "source": [
    "wikiart('sonia-delaunay')"
   ]
  },
  {
   "cell_type": "code",
   "execution_count": 447,
   "metadata": {},
   "outputs": [
    {
     "name": "stdout",
     "output_type": "stream",
     "text": [
      "wassily-kandinsky\n",
      "https://www.wikiart.org/en/wassily-kandinsky/all-works/text-list\n"
     ]
    }
   ],
   "source": [
    "wikiart('wassily-kandinsky')"
   ]
  },
  {
   "cell_type": "code",
   "execution_count": 448,
   "metadata": {},
   "outputs": [
    {
     "name": "stdout",
     "output_type": "stream",
     "text": [
      "salvador-dali\n",
      "https://www.wikiart.org/en/salvador-dali/all-works/text-list\n"
     ]
    }
   ],
   "source": [
    "wikiart('salvador-dali')"
   ]
  },
  {
   "cell_type": "code",
   "execution_count": 449,
   "metadata": {},
   "outputs": [
    {
     "name": "stdout",
     "output_type": "stream",
     "text": [
      "hilma-af-klint\n",
      "https://www.wikiart.org/en/hilma-af-klint/all-works/text-list\n"
     ]
    }
   ],
   "source": [
    "wikiart('hilma-af-klint')"
   ]
  },
  {
   "cell_type": "code",
   "execution_count": 450,
   "metadata": {},
   "outputs": [
    {
     "name": "stdout",
     "output_type": "stream",
     "text": [
      "jack-bush\n",
      "https://www.wikiart.org/en/jack-bush/all-works/text-list\n"
     ]
    }
   ],
   "source": [
    "wikiart('jack-bush')"
   ]
  },
  {
   "cell_type": "code",
   "execution_count": 451,
   "metadata": {},
   "outputs": [
    {
     "name": "stdout",
     "output_type": "stream",
     "text": [
      "frank-w-benson\n",
      "https://www.wikiart.org/en/frank-w-benson/all-works/text-list\n"
     ]
    }
   ],
   "source": [
    "wikiart('frank-w-benson')"
   ]
  },
  {
   "cell_type": "code",
   "execution_count": 452,
   "metadata": {},
   "outputs": [
    {
     "name": "stdout",
     "output_type": "stream",
     "text": [
      "balthus\n",
      "https://www.wikiart.org/en/balthus/all-works/text-list\n"
     ]
    }
   ],
   "source": [
    "wikiart('balthus')"
   ]
  },
  {
   "cell_type": "code",
   "execution_count": 453,
   "metadata": {},
   "outputs": [
    {
     "name": "stdout",
     "output_type": "stream",
     "text": [
      "edward-hopper\n",
      "https://www.wikiart.org/en/edward-hopper/all-works/text-list\n"
     ]
    }
   ],
   "source": [
    "wikiart('edward-hopper')"
   ]
  },
  {
   "cell_type": "code",
   "execution_count": 454,
   "metadata": {},
   "outputs": [
    {
     "name": "stdout",
     "output_type": "stream",
     "text": [
      "c-r-w-nevinson\n",
      "https://www.wikiart.org/en/c-r-w-nevinson/all-works/text-list\n"
     ]
    }
   ],
   "source": [
    "wikiart('c-r-w-nevinson')"
   ]
  },
  {
   "cell_type": "code",
   "execution_count": 455,
   "metadata": {},
   "outputs": [
    {
     "name": "stdout",
     "output_type": "stream",
     "text": [
      "nathan-altman\n",
      "https://www.wikiart.org/en/nathan-altman/all-works/text-list\n"
     ]
    }
   ],
   "source": [
    "wikiart('nathan-altman')"
   ]
  },
  {
   "cell_type": "code",
   "execution_count": 456,
   "metadata": {},
   "outputs": [
    {
     "name": "stdout",
     "output_type": "stream",
     "text": [
      "man-ray\n",
      "https://www.wikiart.org/en/man-ray/all-works/text-list\n"
     ]
    }
   ],
   "source": [
    "wikiart('man-ray')"
   ]
  },
  {
   "cell_type": "code",
   "execution_count": 457,
   "metadata": {},
   "outputs": [
    {
     "name": "stdout",
     "output_type": "stream",
     "text": [
      "mark-tobey\n",
      "https://www.wikiart.org/en/mark-tobey/all-works/text-list\n"
     ]
    }
   ],
   "source": [
    "wikiart('mark-tobey')"
   ]
  },
  {
   "cell_type": "code",
   "execution_count": 458,
   "metadata": {},
   "outputs": [
    {
     "name": "stdout",
     "output_type": "stream",
     "text": [
      "moise-kisling\n",
      "https://www.wikiart.org/en/moise-kisling/all-works/text-list\n"
     ]
    }
   ],
   "source": [
    "wikiart('moise-kisling')"
   ]
  },
  {
   "cell_type": "code",
   "execution_count": 459,
   "metadata": {},
   "outputs": [
    {
     "name": "stdout",
     "output_type": "stream",
     "text": [
      "edvard-munch\n",
      "https://www.wikiart.org/en/edvard-munch/all-works/text-list\n"
     ]
    }
   ],
   "source": [
    "wikiart('edvard-munch')"
   ]
  },
  {
   "cell_type": "code",
   "execution_count": 460,
   "metadata": {},
   "outputs": [
    {
     "name": "stdout",
     "output_type": "stream",
     "text": [
      "banksy\n",
      "https://www.wikiart.org/en/banksy/all-works/text-list\n"
     ]
    }
   ],
   "source": [
    "wikiart('banksy')"
   ]
  },
  {
   "cell_type": "code",
   "execution_count": 461,
   "metadata": {},
   "outputs": [
    {
     "name": "stdout",
     "output_type": "stream",
     "text": [
      "damien-hirst\n",
      "https://www.wikiart.org/en/damien-hirst/all-works/text-list\n"
     ]
    }
   ],
   "source": [
    "wikiart('damien-hirst')"
   ]
  },
  {
   "cell_type": "code",
   "execution_count": 462,
   "metadata": {},
   "outputs": [
    {
     "name": "stdout",
     "output_type": "stream",
     "text": [
      "piet-mondrian\n",
      "https://www.wikiart.org/en/piet-mondrian/all-works/text-list\n"
     ]
    }
   ],
   "source": [
    "wikiart('piet-mondrian')"
   ]
  },
  {
   "cell_type": "code",
   "execution_count": 463,
   "metadata": {},
   "outputs": [
    {
     "name": "stdout",
     "output_type": "stream",
     "text": [
      "lyonel-feininger\n",
      "https://www.wikiart.org/en/lyonel-feininger/all-works/text-list\n"
     ]
    }
   ],
   "source": [
    "wikiart('lyonel-feininger')"
   ]
  },
  {
   "cell_type": "code",
   "execution_count": 464,
   "metadata": {},
   "outputs": [
    {
     "name": "stdout",
     "output_type": "stream",
     "text": [
      "emile-bernard\n",
      "https://www.wikiart.org/en/emile-bernard/all-works/text-list\n"
     ]
    }
   ],
   "source": [
    "wikiart('emile-bernard')"
   ]
  },
  {
   "cell_type": "code",
   "execution_count": 465,
   "metadata": {},
   "outputs": [
    {
     "name": "stdout",
     "output_type": "stream",
     "text": [
      "georges-braque\n",
      "https://www.wikiart.org/en/georges-braque/all-works/text-list\n"
     ]
    }
   ],
   "source": [
    "wikiart('georges-braque')"
   ]
  },
  {
   "cell_type": "code",
   "execution_count": 466,
   "metadata": {},
   "outputs": [
    {
     "name": "stdout",
     "output_type": "stream",
     "text": [
      "theo-van-doesburg\n",
      "https://www.wikiart.org/en/theo-van-doesburg/all-works/text-list\n"
     ]
    }
   ],
   "source": [
    "wikiart('theo-van-doesburg')"
   ]
  },
  {
   "cell_type": "code",
   "execution_count": 467,
   "metadata": {},
   "outputs": [
    {
     "name": "stdout",
     "output_type": "stream",
     "text": [
      "raoul-dufy\n",
      "https://www.wikiart.org/en/raoul-dufy/all-works/text-list\n"
     ]
    }
   ],
   "source": [
    "wikiart('raoul-dufy')"
   ]
  },
  {
   "cell_type": "code",
   "execution_count": 468,
   "metadata": {},
   "outputs": [
    {
     "name": "stdout",
     "output_type": "stream",
     "text": [
      "george-grosz\n",
      "https://www.wikiart.org/en/george-grosz/all-works/text-list\n"
     ]
    }
   ],
   "source": [
    "wikiart('george-grosz')"
   ]
  },
  {
   "cell_type": "code",
   "execution_count": null,
   "metadata": {},
   "outputs": [],
   "source": []
  },
  {
   "cell_type": "code",
   "execution_count": null,
   "metadata": {},
   "outputs": [],
   "source": []
  },
  {
   "cell_type": "markdown",
   "metadata": {},
   "source": [
    "## Trabajo con los ficheros de las carpetas"
   ]
  },
  {
   "cell_type": "markdown",
   "metadata": {},
   "source": [
    "find . -type f -name *.jpg -exec mv {} ./Base_fotos \\;"
   ]
  },
  {
   "cell_type": "code",
   "execution_count": null,
   "metadata": {},
   "outputs": [],
   "source": []
  },
  {
   "cell_type": "code",
   "execution_count": 267,
   "metadata": {},
   "outputs": [],
   "source": [
    "def wikiart_genre(movimiento):\n",
    "    driver = webdriver.Firefox()   \n",
    "    driver.get(\"https://www.wikiart.org/es/paintings-by-style/\"+movimiento+\"?select=featured#!#filterName:featured,viewType:masonry\")    \n",
    "    \n",
    "    while True:\n",
    "        try:\n",
    "            loadMoreButton = driver.find_element_by_xpath(\"/html/body/div[2]/div[1]/section/main/div[3]/div/div/div[2]/a/span[3]\")      \n",
    "            soup = BeautifulSoup(driver.page_source, 'html.parser')\n",
    "            time.sleep(1)\n",
    "            images = []\n",
    "            for img in soup.findAll('img', {'src':re.compile('.jpg')}):                        \n",
    "                        images.append(img.get('src'))\n",
    "                        images = ' '.join(images).replace('!PinterestSmall.jpg','').split()             \n",
    "            loadMoreButton.click()          \n",
    "        except Exception as e:\n",
    "            break\n",
    "    newpath = r'/home/pablo/Escritorio/TFM/'+movimiento\n",
    "    if not os.path.exists(newpath):\n",
    "              os.makedirs(newpath)           \n",
    "    for image in images:          \n",
    "                os.chdir(newpath)\n",
    "                wget.download(image)\n",
    "                "
   ]
  }
 ],
 "metadata": {
  "kernelspec": {
   "display_name": "Python 3",
   "language": "python",
   "name": "python3"
  },
  "language_info": {
   "codemirror_mode": {
    "name": "ipython",
    "version": 3
   },
   "file_extension": ".py",
   "mimetype": "text/x-python",
   "name": "python",
   "nbconvert_exporter": "python",
   "pygments_lexer": "ipython3",
   "version": "3.7.6"
  }
 },
 "nbformat": 4,
 "nbformat_minor": 4
}
